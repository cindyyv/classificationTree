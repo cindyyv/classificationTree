{
  "nbformat": 4,
  "nbformat_minor": 0,
  "metadata": {
    "colab": {
      "provenance": []
    },
    "kernelspec": {
      "name": "python3",
      "display_name": "Python 3"
    },
    "language_info": {
      "name": "python"
    }
  },
  "cells": [
    {
      "cell_type": "markdown",
      "source": [
        "#DATASET 1"
      ],
      "metadata": {
        "id": "AUje9KST7WxD"
      }
    },
    {
      "cell_type": "code",
      "execution_count": 1019,
      "metadata": {
        "id": "ab7c0d5d"
      },
      "outputs": [],
      "source": [
        "# packages\n",
        "import numpy as np # linear algebra\n",
        "import pandas as pd # data processing, CSV file I/O (e.g. pd.read_csv)\n",
        "import seaborn as sns\n",
        "import matplotlib.pyplot as plt\n",
        "from matplotlib.colors import ListedColormap\n",
        "from sklearn.metrics import plot_confusion_matrix\n",
        "from scipy.stats import norm, boxcox\n",
        "from collections import Counter\n",
        "from scipy import stats\n",
        "import matplotlib.pyplot as plt\n",
        "\n",
        "from sklearn.tree import DecisionTreeClassifier\n",
        "from sklearn.metrics import confusion_matrix, classification_report, accuracy_score\n",
        "from tqdm import tqdm\n",
        "from keras.preprocessing.text import Tokenizer\n",
        "from keras_preprocessing import sequence\n",
        "\n",
        "from sklearn.preprocessing import StandardScaler, LabelEncoder\n",
        "from sklearn.model_selection import train_test_split, GridSearchCV, cross_val_score\n",
        "\n",
        "\n",
        "# warning library\n",
        "import warnings\n",
        "warnings.filterwarnings(\"ignore\")"
      ]
    },
    {
      "cell_type": "code",
      "source": [
        "# # import csv files to Google Colab\n",
        "# from google.colab import files\n",
        "# uploaded = files.upload()"
      ],
      "metadata": {
        "id": "JN7AfIwQbyio"
      },
      "execution_count": 1020,
      "outputs": []
    },
    {
      "cell_type": "code",
      "execution_count": 1021,
      "metadata": {
        "id": "102f456d"
      },
      "outputs": [],
      "source": [
        "# Read csv file and rawdata in dataframe type\n",
        "def read_file(path):\n",
        "    rawdata = pd.read_csv(path, header=0, delimiter=',')\n",
        "    return rawdata"
      ]
    },
    {
      "cell_type": "code",
      "execution_count": 1022,
      "metadata": {
        "id": "2eca902a"
      },
      "outputs": [],
      "source": [
        "# Show the accuracy and other matrices of accuracy\n",
        "def report(predictions, y_test):\n",
        "    print('Accuracy: %s' % accuracy_score(y_test, predictions))\n",
        "    print('Confusion Matrix:')\n",
        "    print(confusion_matrix(y_test, predictions))\n",
        "    print('Classification Report:')\n",
        "    print(classification_report(y_test, predictions))"
      ]
    },
    {
      "cell_type": "code",
      "source": [
        "# functions used to construct the decision tree classifier\n",
        "def gini(sequence, weights=None):\n",
        "    if weights is None: # count 1 - sum of square of probabilities\n",
        "        _, counts = np.unique(sequence, return_counts=True)\n",
        "        p = (counts / len(sequence)) ** 2  \n",
        "        return 1.0 - np.sum(p)\n",
        "    else:\n",
        "        tot = 0\n",
        "        weights = weights / weights.sum()\n",
        "        for c in np.unique(sequence):\n",
        "            #change prob become weighted prob\n",
        "            tot = np.sum(weights[sequence == c]) ** 2\n",
        "        return 1 - tot\n",
        "\n",
        "\n",
        "def entropy(sequence, weights=None):\n",
        "    if weights is None:\n",
        "        _, counts = np.unique(sequence, return_counts=True)\n",
        "        p = counts / len(sequence)  # probability\n",
        "        return -np.sum(p * np.log2(p))\n",
        "    else:\n",
        "        entropy = 0\n",
        "        weights = weights / weights.sum()\n",
        "        for c in np.unique(sequence):\n",
        "            # the weighted probability\n",
        "            tmp = np.sum(weights[sequence == c])\n",
        "            entropy -= tmp * np.log2(tmp)\n",
        "        return entropy"
      ],
      "metadata": {
        "id": "1jZMqYdUHmPi"
      },
      "execution_count": 1023,
      "outputs": []
    },
    {
      "cell_type": "code",
      "source": [
        "# Node\n",
        "class Node():\n",
        "    def __init__(self, c_value, prediction):\n",
        "        self.c_value = c_value\n",
        "        self.prediction = prediction\n",
        "        self.feature_idx = None\n",
        "        self.threshold = None\n",
        "        self.left = None\n",
        "        self.right = None"
      ],
      "metadata": {
        "id": "nEQtT8opDJuK"
      },
      "execution_count": 1024,
      "outputs": []
    },
    {
      "cell_type": "code",
      "source": [
        "# Decision tree built from scratch using gini and entropy\n",
        "class DecisionTree():\n",
        "    def __init__(self, criterion='gini', max_depth=None, max_features=None):\n",
        "        self.criterion = globals()[criterion]\n",
        "\n",
        "        self.max_depth = max_depth if max_depth is not None else 2 ** 100\n",
        "        self.max_features = max_features\n",
        "        self.n_features = None\n",
        "\n",
        "    def fit(self, x_data, y_data, sample_weight=None):\n",
        "        self.n_features = x_data.shape[1]\n",
        "        self.root = self.get_node(x_data, y_data, depth=0, sample_weight=sample_weight)\n",
        "\n",
        "    def get_node(self, x, y, depth, sample_weight=None):\n",
        "        weighted_counts = np.bincount(y, weights=sample_weight)\n",
        "        prediction = np.argmax(weighted_counts)\n",
        "            \n",
        "        node = Node(c_value=self.criterion(y, sample_weight), prediction=prediction)\n",
        "        if depth >= self.max_depth:\n",
        "            return node\n",
        "\n",
        "        node.feature_idx, node.threshold = self.best_split(x, y, sample_weight)\n",
        "        if node.feature_idx is None:\n",
        "            return node\n",
        "\n",
        "        left_idx = x[:, node.feature_idx] < node.threshold\n",
        "        x_left, y_left = x[left_idx], y[left_idx]\n",
        "        x_right, y_right = x[~left_idx], y[~left_idx]\n",
        "\n",
        "        # get child nodes recursively\n",
        "        if sample_weight is not None:\n",
        "            node.left = self.get_node(x_left, y_left, depth=depth + 1, sample_weight=sample_weight[left_idx])\n",
        "            node.right = self.get_node(x_right, y_right, depth=depth + 1, sample_weight=sample_weight[~left_idx])\n",
        "        else:\n",
        "            node.left = self.get_node(x_left, y_left, depth=depth + 1)\n",
        "            node.right = self.get_node(x_right, y_right, depth=depth + 1)\n",
        "\n",
        "        return node\n",
        "\n",
        "    def best_split(self, x, y, sample_weight):\n",
        "        if len(y) <= 1:  \n",
        "            return None, None\n",
        "\n",
        "        parent_c = self.criterion(y, sample_weight)\n",
        "        best_infog = -2 ** 64  \n",
        "        best_idx, best_th = None, None\n",
        "\n",
        "        if self.max_features is not None:\n",
        "            available_features = np.random.choice(np.arange(self.n_features), size=self.max_features, replace=False)\n",
        "        else:\n",
        "            available_features = np.arange(self.n_features)\n",
        "\n",
        "        for idx in available_features:\n",
        "            sort_idx = np.argsort(x[:, idx])\n",
        "            thresholds = x[sort_idx, idx]\n",
        "            labels = y[sort_idx]\n",
        "\n",
        "            for pos in range(1, len(y)):\n",
        "                if thresholds[pos] == thresholds[pos - 1]:\n",
        "                    continue\n",
        "\n",
        "                if sample_weight is not None:\n",
        "                    sorted_sample_weight = sample_weight[sort_idx]\n",
        "                    left_c = self.criterion(\n",
        "                        labels[:pos], sorted_sample_weight[:pos])\n",
        "                    right_c = self.criterion(\n",
        "                        labels[pos:], sorted_sample_weight[pos:])\n",
        "                else:\n",
        "                    left_c = self.criterion(labels[:pos])\n",
        "                    right_c = self.criterion(labels[pos:])\n",
        "\n",
        "                child_c = (pos * left_c + (len(y) - pos) * right_c) / len(y)\n",
        "                infog = parent_c - child_c\n",
        "\n",
        "                if infog > best_infog:\n",
        "                    best_infog = infog\n",
        "                    best_idx = idx\n",
        "                    best_th = (thresholds[pos] + thresholds[pos - 1]) / 2\n",
        "\n",
        "        return best_idx, best_th\n",
        "\n",
        "    def predict(self, x_data):\n",
        "        def util(self, x):\n",
        "            cur_node = self.root\n",
        "            while cur_node.left and cur_node.right:\n",
        "                if x[cur_node.feature_idx] < cur_node.threshold:\n",
        "                    cur_node = cur_node.left\n",
        "                else:\n",
        "                    cur_node = cur_node.right\n",
        "                    \n",
        "            return cur_node.prediction\n",
        "        return np.stack([util(self, single_x) for single_x in x_data])\n"
      ],
      "metadata": {
        "id": "EjV07Or3Hj_h"
      },
      "execution_count": 1025,
      "outputs": []
    },
    {
      "cell_type": "code",
      "source": [
        "def outliers(df, features):\n",
        "    o_index = []\n",
        "    for o in features:\n",
        "        quart1 = np.percentile(df[o],25)\n",
        "        quart3 = np.percentile(df[o],75)\n",
        "        interquart = quart3 - quart1\n",
        "        outlier = interquart * 1.5\n",
        "        o_listindex = df[(df[o] < quart1 - outlier) | (df[o] > quart3 + outlier)].index\n",
        "        o_index.extend(o_listindex)\n",
        "        \n",
        "    o_index = Counter(o_index)\n",
        "    alloutliers = list(i for i, j in o_index.items() if j > 1.5) \n",
        "    \n",
        "    return alloutliers"
      ],
      "metadata": {
        "id": "f0YHmKupZbop"
      },
      "execution_count": 1026,
      "outputs": []
    },
    {
      "cell_type": "markdown",
      "source": [
        "MAIN CODE"
      ],
      "metadata": {
        "id": "jxRZg8RUryqL"
      }
    },
    {
      "cell_type": "code",
      "execution_count": 1027,
      "metadata": {
        "id": "30dbc21c"
      },
      "outputs": [],
      "source": [
        "# Read the csv files inserted\n",
        "df = read_file('./X_train.csv')\n",
        "df2 = read_file('./y_train.csv')\n",
        "df3 = read_file('./X_test.csv')"
      ]
    },
    {
      "cell_type": "code",
      "source": [
        "df.head()"
      ],
      "metadata": {
        "colab": {
          "base_uri": "https://localhost:8080/",
          "height": 206
        },
        "id": "cvxVNEXS8OIr",
        "outputId": "4cf399e5-4eb0-43de-9af5-b839eb2b886d"
      },
      "execution_count": 1028,
      "outputs": [
        {
          "output_type": "execute_result",
          "data": {
            "text/plain": [
              "   fixed_acidity  volatile_acidity  citric_acid  residual_sugar  chlorides  \\\n",
              "0            7.0              0.23         0.40             1.6      0.063   \n",
              "1            7.8              0.60         0.26             2.0      0.080   \n",
              "2            9.7              0.69         0.32             2.5      0.088   \n",
              "3           12.0              0.38         0.56             2.1      0.093   \n",
              "4            6.4              0.64         0.21             1.8      0.081   \n",
              "\n",
              "   free_sulfur_dioxide  total_sulfur_dioxide  density    pH  sulphates  \\\n",
              "0                  NaN                  67.0  0.99520  3.50       0.63   \n",
              "1                 31.0                 131.0  0.99622   NaN       0.52   \n",
              "2                 22.0                  91.0  0.99790  3.29       0.62   \n",
              "3                  6.0                  24.0  0.99925  3.14       0.71   \n",
              "4                 14.0                  31.0  0.99689  3.59       0.66   \n",
              "\n",
              "   alcohol  \n",
              "0     11.1  \n",
              "1      9.9  \n",
              "2     10.1  \n",
              "3     10.9  \n",
              "4      NaN  "
            ],
            "text/html": [
              "\n",
              "  <div id=\"df-34c0a0e7-9195-4234-afb6-14f0e63d4c84\">\n",
              "    <div class=\"colab-df-container\">\n",
              "      <div>\n",
              "<style scoped>\n",
              "    .dataframe tbody tr th:only-of-type {\n",
              "        vertical-align: middle;\n",
              "    }\n",
              "\n",
              "    .dataframe tbody tr th {\n",
              "        vertical-align: top;\n",
              "    }\n",
              "\n",
              "    .dataframe thead th {\n",
              "        text-align: right;\n",
              "    }\n",
              "</style>\n",
              "<table border=\"1\" class=\"dataframe\">\n",
              "  <thead>\n",
              "    <tr style=\"text-align: right;\">\n",
              "      <th></th>\n",
              "      <th>fixed_acidity</th>\n",
              "      <th>volatile_acidity</th>\n",
              "      <th>citric_acid</th>\n",
              "      <th>residual_sugar</th>\n",
              "      <th>chlorides</th>\n",
              "      <th>free_sulfur_dioxide</th>\n",
              "      <th>total_sulfur_dioxide</th>\n",
              "      <th>density</th>\n",
              "      <th>pH</th>\n",
              "      <th>sulphates</th>\n",
              "      <th>alcohol</th>\n",
              "    </tr>\n",
              "  </thead>\n",
              "  <tbody>\n",
              "    <tr>\n",
              "      <th>0</th>\n",
              "      <td>7.0</td>\n",
              "      <td>0.23</td>\n",
              "      <td>0.40</td>\n",
              "      <td>1.6</td>\n",
              "      <td>0.063</td>\n",
              "      <td>NaN</td>\n",
              "      <td>67.0</td>\n",
              "      <td>0.99520</td>\n",
              "      <td>3.50</td>\n",
              "      <td>0.63</td>\n",
              "      <td>11.1</td>\n",
              "    </tr>\n",
              "    <tr>\n",
              "      <th>1</th>\n",
              "      <td>7.8</td>\n",
              "      <td>0.60</td>\n",
              "      <td>0.26</td>\n",
              "      <td>2.0</td>\n",
              "      <td>0.080</td>\n",
              "      <td>31.0</td>\n",
              "      <td>131.0</td>\n",
              "      <td>0.99622</td>\n",
              "      <td>NaN</td>\n",
              "      <td>0.52</td>\n",
              "      <td>9.9</td>\n",
              "    </tr>\n",
              "    <tr>\n",
              "      <th>2</th>\n",
              "      <td>9.7</td>\n",
              "      <td>0.69</td>\n",
              "      <td>0.32</td>\n",
              "      <td>2.5</td>\n",
              "      <td>0.088</td>\n",
              "      <td>22.0</td>\n",
              "      <td>91.0</td>\n",
              "      <td>0.99790</td>\n",
              "      <td>3.29</td>\n",
              "      <td>0.62</td>\n",
              "      <td>10.1</td>\n",
              "    </tr>\n",
              "    <tr>\n",
              "      <th>3</th>\n",
              "      <td>12.0</td>\n",
              "      <td>0.38</td>\n",
              "      <td>0.56</td>\n",
              "      <td>2.1</td>\n",
              "      <td>0.093</td>\n",
              "      <td>6.0</td>\n",
              "      <td>24.0</td>\n",
              "      <td>0.99925</td>\n",
              "      <td>3.14</td>\n",
              "      <td>0.71</td>\n",
              "      <td>10.9</td>\n",
              "    </tr>\n",
              "    <tr>\n",
              "      <th>4</th>\n",
              "      <td>6.4</td>\n",
              "      <td>0.64</td>\n",
              "      <td>0.21</td>\n",
              "      <td>1.8</td>\n",
              "      <td>0.081</td>\n",
              "      <td>14.0</td>\n",
              "      <td>31.0</td>\n",
              "      <td>0.99689</td>\n",
              "      <td>3.59</td>\n",
              "      <td>0.66</td>\n",
              "      <td>NaN</td>\n",
              "    </tr>\n",
              "  </tbody>\n",
              "</table>\n",
              "</div>\n",
              "      <button class=\"colab-df-convert\" onclick=\"convertToInteractive('df-34c0a0e7-9195-4234-afb6-14f0e63d4c84')\"\n",
              "              title=\"Convert this dataframe to an interactive table.\"\n",
              "              style=\"display:none;\">\n",
              "        \n",
              "  <svg xmlns=\"http://www.w3.org/2000/svg\" height=\"24px\"viewBox=\"0 0 24 24\"\n",
              "       width=\"24px\">\n",
              "    <path d=\"M0 0h24v24H0V0z\" fill=\"none\"/>\n",
              "    <path d=\"M18.56 5.44l.94 2.06.94-2.06 2.06-.94-2.06-.94-.94-2.06-.94 2.06-2.06.94zm-11 1L8.5 8.5l.94-2.06 2.06-.94-2.06-.94L8.5 2.5l-.94 2.06-2.06.94zm10 10l.94 2.06.94-2.06 2.06-.94-2.06-.94-.94-2.06-.94 2.06-2.06.94z\"/><path d=\"M17.41 7.96l-1.37-1.37c-.4-.4-.92-.59-1.43-.59-.52 0-1.04.2-1.43.59L10.3 9.45l-7.72 7.72c-.78.78-.78 2.05 0 2.83L4 21.41c.39.39.9.59 1.41.59.51 0 1.02-.2 1.41-.59l7.78-7.78 2.81-2.81c.8-.78.8-2.07 0-2.86zM5.41 20L4 18.59l7.72-7.72 1.47 1.35L5.41 20z\"/>\n",
              "  </svg>\n",
              "      </button>\n",
              "      \n",
              "  <style>\n",
              "    .colab-df-container {\n",
              "      display:flex;\n",
              "      flex-wrap:wrap;\n",
              "      gap: 12px;\n",
              "    }\n",
              "\n",
              "    .colab-df-convert {\n",
              "      background-color: #E8F0FE;\n",
              "      border: none;\n",
              "      border-radius: 50%;\n",
              "      cursor: pointer;\n",
              "      display: none;\n",
              "      fill: #1967D2;\n",
              "      height: 32px;\n",
              "      padding: 0 0 0 0;\n",
              "      width: 32px;\n",
              "    }\n",
              "\n",
              "    .colab-df-convert:hover {\n",
              "      background-color: #E2EBFA;\n",
              "      box-shadow: 0px 1px 2px rgba(60, 64, 67, 0.3), 0px 1px 3px 1px rgba(60, 64, 67, 0.15);\n",
              "      fill: #174EA6;\n",
              "    }\n",
              "\n",
              "    [theme=dark] .colab-df-convert {\n",
              "      background-color: #3B4455;\n",
              "      fill: #D2E3FC;\n",
              "    }\n",
              "\n",
              "    [theme=dark] .colab-df-convert:hover {\n",
              "      background-color: #434B5C;\n",
              "      box-shadow: 0px 1px 3px 1px rgba(0, 0, 0, 0.15);\n",
              "      filter: drop-shadow(0px 1px 2px rgba(0, 0, 0, 0.3));\n",
              "      fill: #FFFFFF;\n",
              "    }\n",
              "  </style>\n",
              "\n",
              "      <script>\n",
              "        const buttonEl =\n",
              "          document.querySelector('#df-34c0a0e7-9195-4234-afb6-14f0e63d4c84 button.colab-df-convert');\n",
              "        buttonEl.style.display =\n",
              "          google.colab.kernel.accessAllowed ? 'block' : 'none';\n",
              "\n",
              "        async function convertToInteractive(key) {\n",
              "          const element = document.querySelector('#df-34c0a0e7-9195-4234-afb6-14f0e63d4c84');\n",
              "          const dataTable =\n",
              "            await google.colab.kernel.invokeFunction('convertToInteractive',\n",
              "                                                     [key], {});\n",
              "          if (!dataTable) return;\n",
              "\n",
              "          const docLinkHtml = 'Like what you see? Visit the ' +\n",
              "            '<a target=\"_blank\" href=https://colab.research.google.com/notebooks/data_table.ipynb>data table notebook</a>'\n",
              "            + ' to learn more about interactive tables.';\n",
              "          element.innerHTML = '';\n",
              "          dataTable['output_type'] = 'display_data';\n",
              "          await google.colab.output.renderOutput(dataTable, element);\n",
              "          const docLink = document.createElement('div');\n",
              "          docLink.innerHTML = docLinkHtml;\n",
              "          element.appendChild(docLink);\n",
              "        }\n",
              "      </script>\n",
              "    </div>\n",
              "  </div>\n",
              "  "
            ]
          },
          "metadata": {},
          "execution_count": 1028
        }
      ]
    },
    {
      "cell_type": "code",
      "source": [
        "df.shape"
      ],
      "metadata": {
        "colab": {
          "base_uri": "https://localhost:8080/"
        },
        "id": "gKBYykIO914h",
        "outputId": "1afd0d58-266d-496c-a812-ef5b6b83642e"
      },
      "execution_count": 1029,
      "outputs": [
        {
          "output_type": "execute_result",
          "data": {
            "text/plain": [
              "(1023, 11)"
            ]
          },
          "metadata": {},
          "execution_count": 1029
        }
      ]
    },
    {
      "cell_type": "code",
      "source": [
        "df.describe()"
      ],
      "metadata": {
        "colab": {
          "base_uri": "https://localhost:8080/",
          "height": 364
        },
        "id": "Lvzo_82p93TW",
        "outputId": "76d9b36f-d22e-40ff-b8a2-27e42c0b8817"
      },
      "execution_count": 1030,
      "outputs": [
        {
          "output_type": "execute_result",
          "data": {
            "text/plain": [
              "       fixed_acidity  volatile_acidity  citric_acid  residual_sugar  \\\n",
              "count     958.000000        979.000000   963.000000      984.000000   \n",
              "mean        8.373800          0.526118     0.274216        2.510010   \n",
              "std         1.776455          0.176769     0.193308        1.270972   \n",
              "min         4.600000          0.120000     0.000000        1.200000   \n",
              "25%         7.100000          0.390000     0.100000        1.900000   \n",
              "50%         7.900000          0.520000     0.260000        2.200000   \n",
              "75%         9.300000          0.640000     0.430000        2.600000   \n",
              "max        15.600000          1.330000     1.000000       15.400000   \n",
              "\n",
              "        chlorides  free_sulfur_dioxide  total_sulfur_dioxide     density  \\\n",
              "count  971.000000           966.000000            978.000000  977.000000   \n",
              "mean     0.087151            15.920807             45.801125    0.996776   \n",
              "std      0.043777            10.158979             33.314198    0.001894   \n",
              "min      0.012000             1.000000              6.000000    0.990200   \n",
              "25%      0.071000             8.000000             22.000000    0.995650   \n",
              "50%      0.079000            14.000000             37.000000    0.996800   \n",
              "75%      0.091000            22.000000             60.000000    0.997870   \n",
              "max      0.610000            66.000000            289.000000    1.003690   \n",
              "\n",
              "               pH   sulphates     alcohol  \n",
              "count  965.000000  972.000000  965.000000  \n",
              "mean     3.308632    0.663580   10.445009  \n",
              "std      0.153336    0.176466    1.048401  \n",
              "min      2.740000    0.370000    8.400000  \n",
              "25%      3.210000    0.550000    9.550000  \n",
              "50%      3.310000    0.620000   10.200000  \n",
              "75%      3.400000    0.740000   11.100000  \n",
              "max      4.010000    2.000000   14.000000  "
            ],
            "text/html": [
              "\n",
              "  <div id=\"df-7cdcf969-515d-4a82-9cfb-9f8ab4bc3c12\">\n",
              "    <div class=\"colab-df-container\">\n",
              "      <div>\n",
              "<style scoped>\n",
              "    .dataframe tbody tr th:only-of-type {\n",
              "        vertical-align: middle;\n",
              "    }\n",
              "\n",
              "    .dataframe tbody tr th {\n",
              "        vertical-align: top;\n",
              "    }\n",
              "\n",
              "    .dataframe thead th {\n",
              "        text-align: right;\n",
              "    }\n",
              "</style>\n",
              "<table border=\"1\" class=\"dataframe\">\n",
              "  <thead>\n",
              "    <tr style=\"text-align: right;\">\n",
              "      <th></th>\n",
              "      <th>fixed_acidity</th>\n",
              "      <th>volatile_acidity</th>\n",
              "      <th>citric_acid</th>\n",
              "      <th>residual_sugar</th>\n",
              "      <th>chlorides</th>\n",
              "      <th>free_sulfur_dioxide</th>\n",
              "      <th>total_sulfur_dioxide</th>\n",
              "      <th>density</th>\n",
              "      <th>pH</th>\n",
              "      <th>sulphates</th>\n",
              "      <th>alcohol</th>\n",
              "    </tr>\n",
              "  </thead>\n",
              "  <tbody>\n",
              "    <tr>\n",
              "      <th>count</th>\n",
              "      <td>958.000000</td>\n",
              "      <td>979.000000</td>\n",
              "      <td>963.000000</td>\n",
              "      <td>984.000000</td>\n",
              "      <td>971.000000</td>\n",
              "      <td>966.000000</td>\n",
              "      <td>978.000000</td>\n",
              "      <td>977.000000</td>\n",
              "      <td>965.000000</td>\n",
              "      <td>972.000000</td>\n",
              "      <td>965.000000</td>\n",
              "    </tr>\n",
              "    <tr>\n",
              "      <th>mean</th>\n",
              "      <td>8.373800</td>\n",
              "      <td>0.526118</td>\n",
              "      <td>0.274216</td>\n",
              "      <td>2.510010</td>\n",
              "      <td>0.087151</td>\n",
              "      <td>15.920807</td>\n",
              "      <td>45.801125</td>\n",
              "      <td>0.996776</td>\n",
              "      <td>3.308632</td>\n",
              "      <td>0.663580</td>\n",
              "      <td>10.445009</td>\n",
              "    </tr>\n",
              "    <tr>\n",
              "      <th>std</th>\n",
              "      <td>1.776455</td>\n",
              "      <td>0.176769</td>\n",
              "      <td>0.193308</td>\n",
              "      <td>1.270972</td>\n",
              "      <td>0.043777</td>\n",
              "      <td>10.158979</td>\n",
              "      <td>33.314198</td>\n",
              "      <td>0.001894</td>\n",
              "      <td>0.153336</td>\n",
              "      <td>0.176466</td>\n",
              "      <td>1.048401</td>\n",
              "    </tr>\n",
              "    <tr>\n",
              "      <th>min</th>\n",
              "      <td>4.600000</td>\n",
              "      <td>0.120000</td>\n",
              "      <td>0.000000</td>\n",
              "      <td>1.200000</td>\n",
              "      <td>0.012000</td>\n",
              "      <td>1.000000</td>\n",
              "      <td>6.000000</td>\n",
              "      <td>0.990200</td>\n",
              "      <td>2.740000</td>\n",
              "      <td>0.370000</td>\n",
              "      <td>8.400000</td>\n",
              "    </tr>\n",
              "    <tr>\n",
              "      <th>25%</th>\n",
              "      <td>7.100000</td>\n",
              "      <td>0.390000</td>\n",
              "      <td>0.100000</td>\n",
              "      <td>1.900000</td>\n",
              "      <td>0.071000</td>\n",
              "      <td>8.000000</td>\n",
              "      <td>22.000000</td>\n",
              "      <td>0.995650</td>\n",
              "      <td>3.210000</td>\n",
              "      <td>0.550000</td>\n",
              "      <td>9.550000</td>\n",
              "    </tr>\n",
              "    <tr>\n",
              "      <th>50%</th>\n",
              "      <td>7.900000</td>\n",
              "      <td>0.520000</td>\n",
              "      <td>0.260000</td>\n",
              "      <td>2.200000</td>\n",
              "      <td>0.079000</td>\n",
              "      <td>14.000000</td>\n",
              "      <td>37.000000</td>\n",
              "      <td>0.996800</td>\n",
              "      <td>3.310000</td>\n",
              "      <td>0.620000</td>\n",
              "      <td>10.200000</td>\n",
              "    </tr>\n",
              "    <tr>\n",
              "      <th>75%</th>\n",
              "      <td>9.300000</td>\n",
              "      <td>0.640000</td>\n",
              "      <td>0.430000</td>\n",
              "      <td>2.600000</td>\n",
              "      <td>0.091000</td>\n",
              "      <td>22.000000</td>\n",
              "      <td>60.000000</td>\n",
              "      <td>0.997870</td>\n",
              "      <td>3.400000</td>\n",
              "      <td>0.740000</td>\n",
              "      <td>11.100000</td>\n",
              "    </tr>\n",
              "    <tr>\n",
              "      <th>max</th>\n",
              "      <td>15.600000</td>\n",
              "      <td>1.330000</td>\n",
              "      <td>1.000000</td>\n",
              "      <td>15.400000</td>\n",
              "      <td>0.610000</td>\n",
              "      <td>66.000000</td>\n",
              "      <td>289.000000</td>\n",
              "      <td>1.003690</td>\n",
              "      <td>4.010000</td>\n",
              "      <td>2.000000</td>\n",
              "      <td>14.000000</td>\n",
              "    </tr>\n",
              "  </tbody>\n",
              "</table>\n",
              "</div>\n",
              "      <button class=\"colab-df-convert\" onclick=\"convertToInteractive('df-7cdcf969-515d-4a82-9cfb-9f8ab4bc3c12')\"\n",
              "              title=\"Convert this dataframe to an interactive table.\"\n",
              "              style=\"display:none;\">\n",
              "        \n",
              "  <svg xmlns=\"http://www.w3.org/2000/svg\" height=\"24px\"viewBox=\"0 0 24 24\"\n",
              "       width=\"24px\">\n",
              "    <path d=\"M0 0h24v24H0V0z\" fill=\"none\"/>\n",
              "    <path d=\"M18.56 5.44l.94 2.06.94-2.06 2.06-.94-2.06-.94-.94-2.06-.94 2.06-2.06.94zm-11 1L8.5 8.5l.94-2.06 2.06-.94-2.06-.94L8.5 2.5l-.94 2.06-2.06.94zm10 10l.94 2.06.94-2.06 2.06-.94-2.06-.94-.94-2.06-.94 2.06-2.06.94z\"/><path d=\"M17.41 7.96l-1.37-1.37c-.4-.4-.92-.59-1.43-.59-.52 0-1.04.2-1.43.59L10.3 9.45l-7.72 7.72c-.78.78-.78 2.05 0 2.83L4 21.41c.39.39.9.59 1.41.59.51 0 1.02-.2 1.41-.59l7.78-7.78 2.81-2.81c.8-.78.8-2.07 0-2.86zM5.41 20L4 18.59l7.72-7.72 1.47 1.35L5.41 20z\"/>\n",
              "  </svg>\n",
              "      </button>\n",
              "      \n",
              "  <style>\n",
              "    .colab-df-container {\n",
              "      display:flex;\n",
              "      flex-wrap:wrap;\n",
              "      gap: 12px;\n",
              "    }\n",
              "\n",
              "    .colab-df-convert {\n",
              "      background-color: #E8F0FE;\n",
              "      border: none;\n",
              "      border-radius: 50%;\n",
              "      cursor: pointer;\n",
              "      display: none;\n",
              "      fill: #1967D2;\n",
              "      height: 32px;\n",
              "      padding: 0 0 0 0;\n",
              "      width: 32px;\n",
              "    }\n",
              "\n",
              "    .colab-df-convert:hover {\n",
              "      background-color: #E2EBFA;\n",
              "      box-shadow: 0px 1px 2px rgba(60, 64, 67, 0.3), 0px 1px 3px 1px rgba(60, 64, 67, 0.15);\n",
              "      fill: #174EA6;\n",
              "    }\n",
              "\n",
              "    [theme=dark] .colab-df-convert {\n",
              "      background-color: #3B4455;\n",
              "      fill: #D2E3FC;\n",
              "    }\n",
              "\n",
              "    [theme=dark] .colab-df-convert:hover {\n",
              "      background-color: #434B5C;\n",
              "      box-shadow: 0px 1px 3px 1px rgba(0, 0, 0, 0.15);\n",
              "      filter: drop-shadow(0px 1px 2px rgba(0, 0, 0, 0.3));\n",
              "      fill: #FFFFFF;\n",
              "    }\n",
              "  </style>\n",
              "\n",
              "      <script>\n",
              "        const buttonEl =\n",
              "          document.querySelector('#df-7cdcf969-515d-4a82-9cfb-9f8ab4bc3c12 button.colab-df-convert');\n",
              "        buttonEl.style.display =\n",
              "          google.colab.kernel.accessAllowed ? 'block' : 'none';\n",
              "\n",
              "        async function convertToInteractive(key) {\n",
              "          const element = document.querySelector('#df-7cdcf969-515d-4a82-9cfb-9f8ab4bc3c12');\n",
              "          const dataTable =\n",
              "            await google.colab.kernel.invokeFunction('convertToInteractive',\n",
              "                                                     [key], {});\n",
              "          if (!dataTable) return;\n",
              "\n",
              "          const docLinkHtml = 'Like what you see? Visit the ' +\n",
              "            '<a target=\"_blank\" href=https://colab.research.google.com/notebooks/data_table.ipynb>data table notebook</a>'\n",
              "            + ' to learn more about interactive tables.';\n",
              "          element.innerHTML = '';\n",
              "          dataTable['output_type'] = 'display_data';\n",
              "          await google.colab.output.renderOutput(dataTable, element);\n",
              "          const docLink = document.createElement('div');\n",
              "          docLink.innerHTML = docLinkHtml;\n",
              "          element.appendChild(docLink);\n",
              "        }\n",
              "      </script>\n",
              "    </div>\n",
              "  </div>\n",
              "  "
            ]
          },
          "metadata": {},
          "execution_count": 1030
        }
      ]
    },
    {
      "cell_type": "code",
      "source": [
        "df.info()"
      ],
      "metadata": {
        "colab": {
          "base_uri": "https://localhost:8080/"
        },
        "id": "uA8RSNKm9_k8",
        "outputId": "ede6cb31-ba4d-46da-b8bc-7e3d2bc2ea18"
      },
      "execution_count": 1031,
      "outputs": [
        {
          "output_type": "stream",
          "name": "stdout",
          "text": [
            "<class 'pandas.core.frame.DataFrame'>\n",
            "RangeIndex: 1023 entries, 0 to 1022\n",
            "Data columns (total 11 columns):\n",
            " #   Column                Non-Null Count  Dtype  \n",
            "---  ------                --------------  -----  \n",
            " 0   fixed_acidity         958 non-null    float64\n",
            " 1   volatile_acidity      979 non-null    float64\n",
            " 2   citric_acid           963 non-null    float64\n",
            " 3   residual_sugar        984 non-null    float64\n",
            " 4   chlorides             971 non-null    float64\n",
            " 5   free_sulfur_dioxide   966 non-null    float64\n",
            " 6   total_sulfur_dioxide  978 non-null    float64\n",
            " 7   density               977 non-null    float64\n",
            " 8   pH                    965 non-null    float64\n",
            " 9   sulphates             972 non-null    float64\n",
            " 10  alcohol               965 non-null    float64\n",
            "dtypes: float64(11)\n",
            "memory usage: 88.0 KB\n"
          ]
        }
      ]
    },
    {
      "cell_type": "code",
      "source": [
        "df1n2 = df.join(df2)"
      ],
      "metadata": {
        "id": "Kzh0dxXy-fjU"
      },
      "execution_count": 1032,
      "outputs": []
    },
    {
      "cell_type": "code",
      "source": [
        "# fixed_acidity doesn't affect much\n",
        "fig = plt.figure(figsize = (10,6))\n",
        "sns.barplot(x = 'class', y = 'fixed_acidity', data = df1n2)"
      ],
      "metadata": {
        "colab": {
          "base_uri": "https://localhost:8080/",
          "height": 406
        },
        "id": "tZVYX2et-QrC",
        "outputId": "82632d2e-0333-4614-b97c-ccdb190846be"
      },
      "execution_count": 1033,
      "outputs": [
        {
          "output_type": "execute_result",
          "data": {
            "text/plain": [
              "<matplotlib.axes._subplots.AxesSubplot at 0x7f184d89e160>"
            ]
          },
          "metadata": {},
          "execution_count": 1033
        },
        {
          "output_type": "display_data",
          "data": {
            "text/plain": [
              "<Figure size 720x432 with 1 Axes>"
            ],
            "image/png": "[encoded data removed]"
          },
          "metadata": {
            "needs_background": "light"
          }
        }
      ]
    },
    {
      "cell_type": "code",
      "source": [
        "# lower volatile acidity, higher quality\n",
        "fig = plt.figure(figsize = (10,6))\n",
        "sns.barplot(x = 'class', y = 'volatile_acidity', data = df1n2)"
      ],
      "metadata": {
        "colab": {
          "base_uri": "https://localhost:8080/",
          "height": 406
        },
        "id": "We6uRTUQ-r55",
        "outputId": "43e07356-b270-46b0-f54b-cac63cd705e8"
      },
      "execution_count": 1034,
      "outputs": [
        {
          "output_type": "execute_result",
          "data": {
            "text/plain": [
              "<matplotlib.axes._subplots.AxesSubplot at 0x7f184cdaae80>"
            ]
          },
          "metadata": {},
          "execution_count": 1034
        },
        {
          "output_type": "display_data",
          "data": {
            "text/plain": [
              "<Figure size 720x432 with 1 Axes>"
            ],
            "image/png": "[encoded data removed]"
          },
          "metadata": {
            "needs_background": "light"
          }
        }
      ]
    },
    {
      "cell_type": "code",
      "source": [
        "# higher citric acid, higher quality\n",
        "fig = plt.figure(figsize = (10,6))\n",
        "sns.barplot(x = 'class', y = 'citric_acid', data = df1n2)"
      ],
      "metadata": {
        "colab": {
          "base_uri": "https://localhost:8080/",
          "height": 406
        },
        "id": "0FbHIvNz-0bE",
        "outputId": "6759310d-468f-45b1-b635-e5456985f9bf"
      },
      "execution_count": 1035,
      "outputs": [
        {
          "output_type": "execute_result",
          "data": {
            "text/plain": [
              "<matplotlib.axes._subplots.AxesSubplot at 0x7f184cc92910>"
            ]
          },
          "metadata": {},
          "execution_count": 1035
        },
        {
          "output_type": "display_data",
          "data": {
            "text/plain": [
              "<Figure size 720x432 with 1 Axes>"
            ],
            "image/png": "[encoded data removed]"
          },
          "metadata": {
            "needs_background": "light"
          }
        }
      ]
    },
    {
      "cell_type": "code",
      "source": [
        "# residual sugar doesn't affect much\n",
        "fig = plt.figure(figsize = (10,6))\n",
        "sns.barplot(x = 'class', y = 'residual_sugar', data = df1n2)"
      ],
      "metadata": {
        "colab": {
          "base_uri": "https://localhost:8080/",
          "height": 406
        },
        "id": "hYFYF5Tv-0j-",
        "outputId": "c5757292-ca18-45a5-8fdd-70e767666f58"
      },
      "execution_count": 1036,
      "outputs": [
        {
          "output_type": "execute_result",
          "data": {
            "text/plain": [
              "<matplotlib.axes._subplots.AxesSubplot at 0x7f184cc928b0>"
            ]
          },
          "metadata": {},
          "execution_count": 1036
        },
        {
          "output_type": "display_data",
          "data": {
            "text/plain": [
              "<Figure size 720x432 with 1 Axes>"
            ],
            "image/png": "[encoded data removed]"
          },
          "metadata": {
            "needs_background": "light"
          }
        }
      ]
    },
    {
      "cell_type": "code",
      "source": [
        "# higher chlorides, lower quality\n",
        "fig = plt.figure(figsize = (10,6))\n",
        "sns.barplot(x = 'class', y = 'chlorides', data = df1n2)"
      ],
      "metadata": {
        "colab": {
          "base_uri": "https://localhost:8080/",
          "height": 406
        },
        "id": "Q_wk9xBY_D8Z",
        "outputId": "b962e8d7-3aad-4ed1-8fa5-28a0c44a36cf"
      },
      "execution_count": 1037,
      "outputs": [
        {
          "output_type": "execute_result",
          "data": {
            "text/plain": [
              "<matplotlib.axes._subplots.AxesSubplot at 0x7f184cbd5ee0>"
            ]
          },
          "metadata": {},
          "execution_count": 1037
        },
        {
          "output_type": "display_data",
          "data": {
            "text/plain": [
              "<Figure size 720x432 with 1 Axes>"
            ],
            "image/png": "[encoded data removed]"
          },
          "metadata": {
            "needs_background": "light"
          }
        }
      ]
    },
    {
      "cell_type": "code",
      "source": [
        "# quality not so dependent on free sulfur dioxide\n",
        "fig = plt.figure(figsize = (10,6))\n",
        "sns.barplot(x = 'class', y = 'free_sulfur_dioxide', data = df1n2)"
      ],
      "metadata": {
        "colab": {
          "base_uri": "https://localhost:8080/",
          "height": 406
        },
        "id": "p3RK4kxI_J3X",
        "outputId": "4748c133-a7b1-4cb0-f082-e3674b05171a"
      },
      "execution_count": 1038,
      "outputs": [
        {
          "output_type": "execute_result",
          "data": {
            "text/plain": [
              "<matplotlib.axes._subplots.AxesSubplot at 0x7f184cc291c0>"
            ]
          },
          "metadata": {},
          "execution_count": 1038
        },
        {
          "output_type": "display_data",
          "data": {
            "text/plain": [
              "<Figure size 720x432 with 1 Axes>"
            ],
            "image/png": "[encoded data removed]"
          },
          "metadata": {
            "needs_background": "light"
          }
        }
      ]
    },
    {
      "cell_type": "code",
      "source": [
        "# quality not so dependent on total sulfur dioxide\n",
        "fig = plt.figure(figsize = (10,6))\n",
        "sns.barplot(x = 'class', y = 'total_sulfur_dioxide', data = df1n2)"
      ],
      "metadata": {
        "colab": {
          "base_uri": "https://localhost:8080/",
          "height": 406
        },
        "id": "AB7YM-f9_QXR",
        "outputId": "b92e3b00-190e-400e-9dde-e7d6b5cca62b"
      },
      "execution_count": 1039,
      "outputs": [
        {
          "output_type": "execute_result",
          "data": {
            "text/plain": [
              "<matplotlib.axes._subplots.AxesSubplot at 0x7f184cc293a0>"
            ]
          },
          "metadata": {},
          "execution_count": 1039
        },
        {
          "output_type": "display_data",
          "data": {
            "text/plain": [
              "<Figure size 720x432 with 1 Axes>"
            ],
            "image/png": "[encoded data removed]"
          },
          "metadata": {
            "needs_background": "light"
          }
        }
      ]
    },
    {
      "cell_type": "code",
      "source": [
        "# higher sulphates, higher quality\n",
        "fig = plt.figure(figsize = (10,6))\n",
        "sns.barplot(x = 'class', y = 'sulphates', data = df1n2)"
      ],
      "metadata": {
        "colab": {
          "base_uri": "https://localhost:8080/",
          "height": 406
        },
        "id": "WstdTPGB_T3k",
        "outputId": "9da04951-ddcb-43f3-c0a6-7ef5be64d8f7"
      },
      "execution_count": 1040,
      "outputs": [
        {
          "output_type": "execute_result",
          "data": {
            "text/plain": [
              "<matplotlib.axes._subplots.AxesSubplot at 0x7f184ca3df40>"
            ]
          },
          "metadata": {},
          "execution_count": 1040
        },
        {
          "output_type": "display_data",
          "data": {
            "text/plain": [
              "<Figure size 720x432 with 1 Axes>"
            ],
            "image/png": "[encoded data removed]"
          },
          "metadata": {
            "needs_background": "light"
          }
        }
      ]
    },
    {
      "cell_type": "code",
      "source": [
        "# higher alcohol level, higher quality\n",
        "fig = plt.figure(figsize = (10,6))\n",
        "sns.barplot(x = 'class', y = 'alcohol', data = df1n2)"
      ],
      "metadata": {
        "colab": {
          "base_uri": "https://localhost:8080/",
          "height": 406
        },
        "id": "U7JYtaOO_Xx6",
        "outputId": "b693d724-3287-407b-bad9-29f9c949e87e"
      },
      "execution_count": 1041,
      "outputs": [
        {
          "output_type": "execute_result",
          "data": {
            "text/plain": [
              "<matplotlib.axes._subplots.AxesSubplot at 0x7f184cab4460>"
            ]
          },
          "metadata": {},
          "execution_count": 1041
        },
        {
          "output_type": "display_data",
          "data": {
            "text/plain": [
              "<Figure size 720x432 with 1 Axes>"
            ],
            "image/png": "[encoded data removed]"
          },
          "metadata": {
            "needs_background": "light"
          }
        }
      ]
    },
    {
      "cell_type": "markdown",
      "source": [
        "---> TRAIN"
      ],
      "metadata": {
        "id": "ZA-9ngLwsez1"
      }
    },
    {
      "cell_type": "code",
      "source": [
        "# df1n2.columns[df1n2.isnull().any()]\n",
        "df1n2.isnull().sum()"
      ],
      "metadata": {
        "colab": {
          "base_uri": "https://localhost:8080/"
        },
        "id": "zemBCtJfY_R-",
        "outputId": "df484d69-cf86-4561-e63d-0fab15f3e6f1"
      },
      "execution_count": 1042,
      "outputs": [
        {
          "output_type": "execute_result",
          "data": {
            "text/plain": [
              "fixed_acidity           65\n",
              "volatile_acidity        44\n",
              "citric_acid             60\n",
              "residual_sugar          39\n",
              "chlorides               52\n",
              "free_sulfur_dioxide     57\n",
              "total_sulfur_dioxide    45\n",
              "density                 46\n",
              "pH                      58\n",
              "sulphates               51\n",
              "alcohol                 58\n",
              "class                    0\n",
              "dtype: int64"
            ]
          },
          "metadata": {},
          "execution_count": 1042
        }
      ]
    },
    {
      "cell_type": "code",
      "source": [
        "df1n2 = df1n2.fillna(df1n2.mean())"
      ],
      "metadata": {
        "id": "xjr09b4aZTgr"
      },
      "execution_count": 1043,
      "outputs": []
    },
    {
      "cell_type": "code",
      "source": [
        "df1n2.isnull().sum()"
      ],
      "metadata": {
        "colab": {
          "base_uri": "https://localhost:8080/"
        },
        "id": "SKm91TwljWcW",
        "outputId": "54e33cc8-8e75-43d4-c828-5f9a59471edb"
      },
      "execution_count": 1044,
      "outputs": [
        {
          "output_type": "execute_result",
          "data": {
            "text/plain": [
              "fixed_acidity           0\n",
              "volatile_acidity        0\n",
              "citric_acid             0\n",
              "residual_sugar          0\n",
              "chlorides               0\n",
              "free_sulfur_dioxide     0\n",
              "total_sulfur_dioxide    0\n",
              "density                 0\n",
              "pH                      0\n",
              "sulphates               0\n",
              "alcohol                 0\n",
              "class                   0\n",
              "dtype: int64"
            ]
          },
          "metadata": {},
          "execution_count": 1044
        }
      ]
    },
    {
      "cell_type": "code",
      "source": [
        "len(df.loc[outliers(df,df.columns[:-1])]) # number of outliers"
      ],
      "metadata": {
        "colab": {
          "base_uri": "https://localhost:8080/"
        },
        "id": "ybiD4d1bZhXU",
        "outputId": "62e17d19-dd07-44ad-8c91-46d47c73d9af"
      },
      "execution_count": 1045,
      "outputs": [
        {
          "output_type": "execute_result",
          "data": {
            "text/plain": [
              "0"
            ]
          },
          "metadata": {},
          "execution_count": 1045
        }
      ]
    },
    {
      "cell_type": "code",
      "source": [
        "df = df.drop(outliers(df,df.columns[:-1]),axis = 0).reset_index(drop = True)"
      ],
      "metadata": {
        "id": "1R6zdGCIZoTJ"
      },
      "execution_count": 1046,
      "outputs": []
    },
    {
      "cell_type": "code",
      "source": [
        "# binary classification good or bad\n",
        "bins = (2, 6.5, 8)\n",
        "classified = ['bad', 'good']\n",
        "df1n2['class'] = pd.cut(df1n2['class'], bins = bins, labels = classified)"
      ],
      "metadata": {
        "id": "Knd40YwLASpx"
      },
      "execution_count": 1047,
      "outputs": []
    },
    {
      "cell_type": "code",
      "source": [
        "df1n2['class'].value_counts()"
      ],
      "metadata": {
        "colab": {
          "base_uri": "https://localhost:8080/"
        },
        "id": "qY-c24BFZ61H",
        "outputId": "20406fa1-f743-4f92-e41f-3428f74e62ba"
      },
      "execution_count": 1048,
      "outputs": [
        {
          "output_type": "execute_result",
          "data": {
            "text/plain": [
              "bad     885\n",
              "good    138\n",
              "Name: class, dtype: int64"
            ]
          },
          "metadata": {},
          "execution_count": 1048
        }
      ]
    },
    {
      "cell_type": "code",
      "source": [
        "classlabel = LabelEncoder() \n",
        "df1n2['class'] = classlabel.fit_transform(df1n2['class']) # numerized bad and good to 0 and 1"
      ],
      "metadata": {
        "id": "D_FTGW0NBMTu"
      },
      "execution_count": 1049,
      "outputs": []
    },
    {
      "cell_type": "code",
      "source": [
        "sns.countplot(df1n2['class'])"
      ],
      "metadata": {
        "colab": {
          "base_uri": "https://localhost:8080/",
          "height": 297
        },
        "id": "QvfBF98XBglD",
        "outputId": "e9ae5da7-168b-4eac-a2cb-8e6b4b2f274d"
      },
      "execution_count": 1050,
      "outputs": [
        {
          "output_type": "execute_result",
          "data": {
            "text/plain": [
              "<matplotlib.axes._subplots.AxesSubplot at 0x7f184eab8040>"
            ]
          },
          "metadata": {},
          "execution_count": 1050
        },
        {
          "output_type": "display_data",
          "data": {
            "text/plain": [
              "<Figure size 432x288 with 1 Axes>"
            ],
            "image/png": "[encoded data removed]"
          },
          "metadata": {
            "needs_background": "light"
          }
        }
      ]
    },
    {
      "cell_type": "code",
      "source": [
        "# declare feature and target values\n",
        "X = df1n2.drop('class', axis = 1)\n",
        "y = df2['class'].values"
      ],
      "metadata": {
        "id": "y8jwKYc7Bkv5"
      },
      "execution_count": 1051,
      "outputs": []
    },
    {
      "cell_type": "code",
      "source": [
        "# get optimized result\n",
        "sc = StandardScaler()"
      ],
      "metadata": {
        "id": "NhQMgALwCKpn"
      },
      "execution_count": 1052,
      "outputs": []
    },
    {
      "cell_type": "code",
      "source": [
        "# Train and Test splitting of data \n",
        "X_train, X_val, y_train, y_val = train_test_split(X, y, test_size = 0.2, random_state = 42)"
      ],
      "metadata": {
        "id": "1W6OgDJ_B_O7"
      },
      "execution_count": 1053,
      "outputs": []
    },
    {
      "cell_type": "code",
      "source": [
        "X_train"
      ],
      "metadata": {
        "colab": {
          "base_uri": "https://localhost:8080/",
          "height": 424
        },
        "id": "Ce-dcUGyKdym",
        "outputId": "4759feb8-7bf2-4123-f91e-a1dda562a639"
      },
      "execution_count": 1054,
      "outputs": [
        {
          "output_type": "execute_result",
          "data": {
            "text/plain": [
              "     fixed_acidity  volatile_acidity  citric_acid  residual_sugar  chlorides  \\\n",
              "137         6.3000              0.98         0.01             2.0      0.057   \n",
              "377         7.2000              0.38         0.31             2.0      0.056   \n",
              "388         6.6000              0.61         0.00             1.6      0.069   \n",
              "824        10.9000              0.53         0.49             4.6      0.118   \n",
              "767         7.0000              0.36         0.21             2.4      0.086   \n",
              "..             ...               ...          ...             ...        ...   \n",
              "106         8.3738              0.38         0.48             1.8      0.157   \n",
              "270         7.7000              0.39         0.12             1.7      0.097   \n",
              "860         8.9000              0.12         0.45             1.8      0.075   \n",
              "435         7.1000              0.66         0.00             3.9      0.086   \n",
              "102        12.7000              0.60         0.65             2.3      0.063   \n",
              "\n",
              "     free_sulfur_dioxide  total_sulfur_dioxide  density    pH  sulphates  \\\n",
              "137                 15.0                  33.0  0.99488  3.60       0.46   \n",
              "377                 15.0                  29.0  0.99472  3.23       0.76   \n",
              "388                  4.0                   8.0  0.99396  3.33       0.37   \n",
              "824                 10.0                  17.0  1.00020  3.07       0.56   \n",
              "767                 24.0                  69.0  0.99556  3.40       0.53   \n",
              "..                   ...                   ...      ...   ...        ...   \n",
              "106                  5.0                  17.0  0.99760  3.30       1.05   \n",
              "270                 19.0                  27.0  0.99596  3.16       0.49   \n",
              "860                 10.0                  21.0  0.99552  3.41       0.76   \n",
              "435                 17.0                  45.0  0.99760  3.46       0.54   \n",
              "102                  6.0                  25.0  0.99970  3.03       0.57   \n",
              "\n",
              "     alcohol  \n",
              "137     11.2  \n",
              "377     11.3  \n",
              "388     10.4  \n",
              "824     11.7  \n",
              "767     10.1  \n",
              "..       ...  \n",
              "106      9.4  \n",
              "270      9.4  \n",
              "860     11.9  \n",
              "435      9.5  \n",
              "102      9.9  \n",
              "\n",
              "[818 rows x 11 columns]"
            ],
            "text/html": [
              "\n",
              "  <div id=\"df-4b122b29-da36-42aa-839a-8ac7121beb2c\">\n",
              "    <div class=\"colab-df-container\">\n",
              "      <div>\n",
              "<style scoped>\n",
              "    .dataframe tbody tr th:only-of-type {\n",
              "        vertical-align: middle;\n",
              "    }\n",
              "\n",
              "    .dataframe tbody tr th {\n",
              "        vertical-align: top;\n",
              "    }\n",
              "\n",
              "    .dataframe thead th {\n",
              "        text-align: right;\n",
              "    }\n",
              "</style>\n",
              "<table border=\"1\" class=\"dataframe\">\n",
              "  <thead>\n",
              "    <tr style=\"text-align: right;\">\n",
              "      <th></th>\n",
              "      <th>fixed_acidity</th>\n",
              "      <th>volatile_acidity</th>\n",
              "      <th>citric_acid</th>\n",
              "      <th>residual_sugar</th>\n",
              "      <th>chlorides</th>\n",
              "      <th>free_sulfur_dioxide</th>\n",
              "      <th>total_sulfur_dioxide</th>\n",
              "      <th>density</th>\n",
              "      <th>pH</th>\n",
              "      <th>sulphates</th>\n",
              "      <th>alcohol</th>\n",
              "    </tr>\n",
              "  </thead>\n",
              "  <tbody>\n",
              "    <tr>\n",
              "      <th>137</th>\n",
              "      <td>6.3000</td>\n",
              "      <td>0.98</td>\n",
              "      <td>0.01</td>\n",
              "      <td>2.0</td>\n",
              "      <td>0.057</td>\n",
              "      <td>15.0</td>\n",
              "      <td>33.0</td>\n",
              "      <td>0.99488</td>\n",
              "      <td>3.60</td>\n",
              "      <td>0.46</td>\n",
              "      <td>11.2</td>\n",
              "    </tr>\n",
              "    <tr>\n",
              "      <th>377</th>\n",
              "      <td>7.2000</td>\n",
              "      <td>0.38</td>\n",
              "      <td>0.31</td>\n",
              "      <td>2.0</td>\n",
              "      <td>0.056</td>\n",
              "      <td>15.0</td>\n",
              "      <td>29.0</td>\n",
              "      <td>0.99472</td>\n",
              "      <td>3.23</td>\n",
              "      <td>0.76</td>\n",
              "      <td>11.3</td>\n",
              "    </tr>\n",
              "    <tr>\n",
              "      <th>388</th>\n",
              "      <td>6.6000</td>\n",
              "      <td>0.61</td>\n",
              "      <td>0.00</td>\n",
              "      <td>1.6</td>\n",
              "      <td>0.069</td>\n",
              "      <td>4.0</td>\n",
              "      <td>8.0</td>\n",
              "      <td>0.99396</td>\n",
              "      <td>3.33</td>\n",
              "      <td>0.37</td>\n",
              "      <td>10.4</td>\n",
              "    </tr>\n",
              "    <tr>\n",
              "      <th>824</th>\n",
              "      <td>10.9000</td>\n",
              "      <td>0.53</td>\n",
              "      <td>0.49</td>\n",
              "      <td>4.6</td>\n",
              "      <td>0.118</td>\n",
              "      <td>10.0</td>\n",
              "      <td>17.0</td>\n",
              "      <td>1.00020</td>\n",
              "      <td>3.07</td>\n",
              "      <td>0.56</td>\n",
              "      <td>11.7</td>\n",
              "    </tr>\n",
              "    <tr>\n",
              "      <th>767</th>\n",
              "      <td>7.0000</td>\n",
              "      <td>0.36</td>\n",
              "      <td>0.21</td>\n",
              "      <td>2.4</td>\n",
              "      <td>0.086</td>\n",
              "      <td>24.0</td>\n",
              "      <td>69.0</td>\n",
              "      <td>0.99556</td>\n",
              "      <td>3.40</td>\n",
              "      <td>0.53</td>\n",
              "      <td>10.1</td>\n",
              "    </tr>\n",
              "    <tr>\n",
              "      <th>...</th>\n",
              "      <td>...</td>\n",
              "      <td>...</td>\n",
              "      <td>...</td>\n",
              "      <td>...</td>\n",
              "      <td>...</td>\n",
              "      <td>...</td>\n",
              "      <td>...</td>\n",
              "      <td>...</td>\n",
              "      <td>...</td>\n",
              "      <td>...</td>\n",
              "      <td>...</td>\n",
              "    </tr>\n",
              "    <tr>\n",
              "      <th>106</th>\n",
              "      <td>8.3738</td>\n",
              "      <td>0.38</td>\n",
              "      <td>0.48</td>\n",
              "      <td>1.8</td>\n",
              "      <td>0.157</td>\n",
              "      <td>5.0</td>\n",
              "      <td>17.0</td>\n",
              "      <td>0.99760</td>\n",
              "      <td>3.30</td>\n",
              "      <td>1.05</td>\n",
              "      <td>9.4</td>\n",
              "    </tr>\n",
              "    <tr>\n",
              "      <th>270</th>\n",
              "      <td>7.7000</td>\n",
              "      <td>0.39</td>\n",
              "      <td>0.12</td>\n",
              "      <td>1.7</td>\n",
              "      <td>0.097</td>\n",
              "      <td>19.0</td>\n",
              "      <td>27.0</td>\n",
              "      <td>0.99596</td>\n",
              "      <td>3.16</td>\n",
              "      <td>0.49</td>\n",
              "      <td>9.4</td>\n",
              "    </tr>\n",
              "    <tr>\n",
              "      <th>860</th>\n",
              "      <td>8.9000</td>\n",
              "      <td>0.12</td>\n",
              "      <td>0.45</td>\n",
              "      <td>1.8</td>\n",
              "      <td>0.075</td>\n",
              "      <td>10.0</td>\n",
              "      <td>21.0</td>\n",
              "      <td>0.99552</td>\n",
              "      <td>3.41</td>\n",
              "      <td>0.76</td>\n",
              "      <td>11.9</td>\n",
              "    </tr>\n",
              "    <tr>\n",
              "      <th>435</th>\n",
              "      <td>7.1000</td>\n",
              "      <td>0.66</td>\n",
              "      <td>0.00</td>\n",
              "      <td>3.9</td>\n",
              "      <td>0.086</td>\n",
              "      <td>17.0</td>\n",
              "      <td>45.0</td>\n",
              "      <td>0.99760</td>\n",
              "      <td>3.46</td>\n",
              "      <td>0.54</td>\n",
              "      <td>9.5</td>\n",
              "    </tr>\n",
              "    <tr>\n",
              "      <th>102</th>\n",
              "      <td>12.7000</td>\n",
              "      <td>0.60</td>\n",
              "      <td>0.65</td>\n",
              "      <td>2.3</td>\n",
              "      <td>0.063</td>\n",
              "      <td>6.0</td>\n",
              "      <td>25.0</td>\n",
              "      <td>0.99970</td>\n",
              "      <td>3.03</td>\n",
              "      <td>0.57</td>\n",
              "      <td>9.9</td>\n",
              "    </tr>\n",
              "  </tbody>\n",
              "</table>\n",
              "<p>818 rows × 11 columns</p>\n",
              "</div>\n",
              "      <button class=\"colab-df-convert\" onclick=\"convertToInteractive('df-4b122b29-da36-42aa-839a-8ac7121beb2c')\"\n",
              "              title=\"Convert this dataframe to an interactive table.\"\n",
              "              style=\"display:none;\">\n",
              "        \n",
              "  <svg xmlns=\"http://www.w3.org/2000/svg\" height=\"24px\"viewBox=\"0 0 24 24\"\n",
              "       width=\"24px\">\n",
              "    <path d=\"M0 0h24v24H0V0z\" fill=\"none\"/>\n",
              "    <path d=\"M18.56 5.44l.94 2.06.94-2.06 2.06-.94-2.06-.94-.94-2.06-.94 2.06-2.06.94zm-11 1L8.5 8.5l.94-2.06 2.06-.94-2.06-.94L8.5 2.5l-.94 2.06-2.06.94zm10 10l.94 2.06.94-2.06 2.06-.94-2.06-.94-.94-2.06-.94 2.06-2.06.94z\"/><path d=\"M17.41 7.96l-1.37-1.37c-.4-.4-.92-.59-1.43-.59-.52 0-1.04.2-1.43.59L10.3 9.45l-7.72 7.72c-.78.78-.78 2.05 0 2.83L4 21.41c.39.39.9.59 1.41.59.51 0 1.02-.2 1.41-.59l7.78-7.78 2.81-2.81c.8-.78.8-2.07 0-2.86zM5.41 20L4 18.59l7.72-7.72 1.47 1.35L5.41 20z\"/>\n",
              "  </svg>\n",
              "      </button>\n",
              "      \n",
              "  <style>\n",
              "    .colab-df-container {\n",
              "      display:flex;\n",
              "      flex-wrap:wrap;\n",
              "      gap: 12px;\n",
              "    }\n",
              "\n",
              "    .colab-df-convert {\n",
              "      background-color: #E8F0FE;\n",
              "      border: none;\n",
              "      border-radius: 50%;\n",
              "      cursor: pointer;\n",
              "      display: none;\n",
              "      fill: #1967D2;\n",
              "      height: 32px;\n",
              "      padding: 0 0 0 0;\n",
              "      width: 32px;\n",
              "    }\n",
              "\n",
              "    .colab-df-convert:hover {\n",
              "      background-color: #E2EBFA;\n",
              "      box-shadow: 0px 1px 2px rgba(60, 64, 67, 0.3), 0px 1px 3px 1px rgba(60, 64, 67, 0.15);\n",
              "      fill: #174EA6;\n",
              "    }\n",
              "\n",
              "    [theme=dark] .colab-df-convert {\n",
              "      background-color: #3B4455;\n",
              "      fill: #D2E3FC;\n",
              "    }\n",
              "\n",
              "    [theme=dark] .colab-df-convert:hover {\n",
              "      background-color: #434B5C;\n",
              "      box-shadow: 0px 1px 3px 1px rgba(0, 0, 0, 0.15);\n",
              "      filter: drop-shadow(0px 1px 2px rgba(0, 0, 0, 0.3));\n",
              "      fill: #FFFFFF;\n",
              "    }\n",
              "  </style>\n",
              "\n",
              "      <script>\n",
              "        const buttonEl =\n",
              "          document.querySelector('#df-4b122b29-da36-42aa-839a-8ac7121beb2c button.colab-df-convert');\n",
              "        buttonEl.style.display =\n",
              "          google.colab.kernel.accessAllowed ? 'block' : 'none';\n",
              "\n",
              "        async function convertToInteractive(key) {\n",
              "          const element = document.querySelector('#df-4b122b29-da36-42aa-839a-8ac7121beb2c');\n",
              "          const dataTable =\n",
              "            await google.colab.kernel.invokeFunction('convertToInteractive',\n",
              "                                                     [key], {});\n",
              "          if (!dataTable) return;\n",
              "\n",
              "          const docLinkHtml = 'Like what you see? Visit the ' +\n",
              "            '<a target=\"_blank\" href=https://colab.research.google.com/notebooks/data_table.ipynb>data table notebook</a>'\n",
              "            + ' to learn more about interactive tables.';\n",
              "          element.innerHTML = '';\n",
              "          dataTable['output_type'] = 'display_data';\n",
              "          await google.colab.output.renderOutput(dataTable, element);\n",
              "          const docLink = document.createElement('div');\n",
              "          docLink.innerHTML = docLinkHtml;\n",
              "          element.appendChild(docLink);\n",
              "        }\n",
              "      </script>\n",
              "    </div>\n",
              "  </div>\n",
              "  "
            ]
          },
          "metadata": {},
          "execution_count": 1054
        }
      ]
    },
    {
      "cell_type": "code",
      "source": [
        "X_train = sc.fit_transform(X_train)\n",
        "X_val = sc.fit_transform(X_val)"
      ],
      "metadata": {
        "id": "A0ySfxKHCLoF"
      },
      "execution_count": 1055,
      "outputs": []
    },
    {
      "cell_type": "code",
      "source": [
        "# save preprocessed training data to a new csv file\n",
        "final_traindf = pd.DataFrame(X) \n",
        "final_traindf.to_csv('X_train_final.csv') "
      ],
      "metadata": {
        "id": "Gg5zeGL-cOjr"
      },
      "execution_count": 1056,
      "outputs": []
    },
    {
      "cell_type": "code",
      "source": [
        "# init decision tree classifier\n",
        "clf = DecisionTree(max_depth=4)\n",
        "clf.fit(X_train, y_train)"
      ],
      "metadata": {
        "id": "_9Y8ogRaQAnx"
      },
      "execution_count": 1057,
      "outputs": []
    },
    {
      "cell_type": "code",
      "source": [
        "# predict validation set\n",
        "y_pred = clf.predict(X_val)\n",
        "report(y_pred, y_val)"
      ],
      "metadata": {
        "id": "z58dfuOGsnqq",
        "colab": {
          "base_uri": "https://localhost:8080/"
        },
        "outputId": "17fb4ea2-7127-48fc-926e-39791107ee0a"
      },
      "execution_count": 1058,
      "outputs": [
        {
          "output_type": "stream",
          "name": "stdout",
          "text": [
            "Accuracy: 0.6\n",
            "Confusion Matrix:\n",
            "[[ 0  4  3  0  0]\n",
            " [ 0 62 18  1  0]\n",
            " [ 0 30 45 11  0]\n",
            " [ 0  3  8 16  0]\n",
            " [ 0  1  1  2  0]]\n",
            "Classification Report:\n",
            "              precision    recall  f1-score   support\n",
            "\n",
            "           4       0.00      0.00      0.00         7\n",
            "           5       0.62      0.77      0.69        81\n",
            "           6       0.60      0.52      0.56        86\n",
            "           7       0.53      0.59      0.56        27\n",
            "           8       0.00      0.00      0.00         4\n",
            "\n",
            "    accuracy                           0.60       205\n",
            "   macro avg       0.35      0.38      0.36       205\n",
            "weighted avg       0.57      0.60      0.58       205\n",
            "\n"
          ]
        }
      ]
    },
    {
      "cell_type": "markdown",
      "source": [
        "---> TEST"
      ],
      "metadata": {
        "id": "a9D0WQm-s_qF"
      }
    },
    {
      "cell_type": "code",
      "source": [
        "# df3.columns[df3.isnull().any()]\n",
        "df3.isnull().sum()"
      ],
      "metadata": {
        "colab": {
          "base_uri": "https://localhost:8080/"
        },
        "id": "i1E8W-8CoLur",
        "outputId": "0b27cf33-f1de-42dd-c904-8ea45b79a169"
      },
      "execution_count": 1059,
      "outputs": [
        {
          "output_type": "execute_result",
          "data": {
            "text/plain": [
              "fixed_acidity           11\n",
              "volatile_acidity        13\n",
              "citric_acid             12\n",
              "residual_sugar          12\n",
              "chlorides                9\n",
              "free_sulfur_dioxide     14\n",
              "total_sulfur_dioxide    12\n",
              "density                 12\n",
              "pH                      10\n",
              "sulphates                9\n",
              "alcohol                 12\n",
              "dtype: int64"
            ]
          },
          "metadata": {},
          "execution_count": 1059
        }
      ]
    },
    {
      "cell_type": "code",
      "source": [
        "df3 = df3.fillna(df3.mean())"
      ],
      "metadata": {
        "id": "5Ri3_4QkoU7x"
      },
      "execution_count": 1060,
      "outputs": []
    },
    {
      "cell_type": "code",
      "source": [
        "len(df3.loc[outliers(df,df.columns[:-1])]) # number of outliers"
      ],
      "metadata": {
        "colab": {
          "base_uri": "https://localhost:8080/"
        },
        "id": "6E8niWdiognW",
        "outputId": "d0ae56b0-c16a-4b97-9b66-b0827a826bb2"
      },
      "execution_count": 1061,
      "outputs": [
        {
          "output_type": "execute_result",
          "data": {
            "text/plain": [
              "0"
            ]
          },
          "metadata": {},
          "execution_count": 1061
        }
      ]
    },
    {
      "cell_type": "code",
      "source": [
        "df3 = df3.drop(outliers(df3, df3.columns[:-1]),axis = 0).reset_index(drop = True)"
      ],
      "metadata": {
        "id": "8DZg2u-Wolmk"
      },
      "execution_count": 1062,
      "outputs": []
    },
    {
      "cell_type": "code",
      "source": [
        "# declare feature and target values\n",
        "X_test = df3.to_numpy()\n",
        "X_test = sc.fit_transform(X_test)"
      ],
      "metadata": {
        "id": "hVzWdUOCosno"
      },
      "execution_count": 1063,
      "outputs": []
    },
    {
      "cell_type": "code",
      "source": [
        "# save preprocessed testing data to a new csv file\n",
        "final_traindf = pd.DataFrame(X_test) \n",
        "final_traindf.to_csv('X_test_final.csv') "
      ],
      "metadata": {
        "id": "S9arKjtps21e"
      },
      "execution_count": 1070,
      "outputs": []
    },
    {
      "cell_type": "code",
      "source": [
        "# predict of testing dataset\n",
        "ytest_pred = clf.predict(X_test)"
      ],
      "metadata": {
        "id": "qOrdEaR_ebcN"
      },
      "execution_count": 1065,
      "outputs": []
    },
    {
      "cell_type": "code",
      "source": [
        "# write numpy array to csv\n",
        "np.savetxt(\"y_test_final.csv\", ytest_pred, delimiter=\",\")"
      ],
      "metadata": {
        "id": "ckt_ilavqW_i"
      },
      "execution_count": 1066,
      "outputs": []
    },
    {
      "cell_type": "code",
      "source": [
        "# # Reference of sklearn package DecisionTreeClassifier\n",
        "# model = DecisionTreeClassifier()\n",
        "# model.fit(X_train, y_train)\n",
        "# predictions = model.predict(X_val)\n",
        "# report(predictions, y_val)"
      ],
      "metadata": {
        "id": "Uqk-E6c0CSMc"
      },
      "execution_count": 1067,
      "outputs": []
    },
    {
      "cell_type": "code",
      "source": [
        "# finpredictions = model.predict(X_test_)"
      ],
      "metadata": {
        "id": "xuz3-cC4h8jE"
      },
      "execution_count": 1068,
      "outputs": []
    }
  ]
}